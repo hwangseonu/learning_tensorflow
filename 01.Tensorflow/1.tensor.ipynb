{
 "cells": [
  {
   "cell_type": "markdown",
   "metadata": {
    "collapsed": true,
    "pycharm": {
     "name": "#%% md\n"
    }
   },
   "source": [
    "# Tensorflow 를 배워보자\n",
    "\n",
    "tensorflow는 Tensor를 다루는 방법을 제공한다.\n",
    "\n",
    "tensorflow에서 Tensor를 상수로 선언하는 방법은 다음과 같다."
   ]
  },
  {
   "cell_type": "code",
   "execution_count": 1,
   "outputs": [
    {
     "name": "stdout",
     "output_type": "stream",
     "text": [
      "tf.Tensor(b'Hello, Tensorflow!', shape=(), dtype=string)\n",
      "tf.Tensor(91, shape=(), dtype=int32)\n",
      "tf.Tensor(23.19, shape=(), dtype=float32)\n"
     ]
    }
   ],
   "source": [
    "import tensorflow as tf\n",
    "\n",
    "hello = tf.constant('Hello, Tensorflow!', dtype=tf.string) # 문자열 상수\n",
    "a = tf.constant(91) # 정수형 상수\n",
    "b = tf.constant(23.19) # 실수형 상수\n",
    "\n",
    "print(hello)\n",
    "print(a)\n",
    "print(b)"
   ],
   "metadata": {
    "collapsed": false,
    "pycharm": {
     "name": "#%%\n"
    }
   }
  },
  {
   "cell_type": "markdown",
   "source": [
    "Tensor는 rank라는 개념을 가진다.\n",
    "\n",
    "rank에 따라 tensor를 부르는 방법도 형태도 달라진다.\n",
    "\n",
    "| rank |  name  |     example      |\n",
    "|:----:|:------:|:----------------:|\n",
    "|  0   | scalar |        1         |\n",
    "|  1   | vector |     [1, 2, 3]    |\n",
    "|  2   | matrix | [[1, 2], [3, 4]] |"
   ],
   "metadata": {
    "collapsed": false,
    "pycharm": {
     "name": "#%% md\n"
    }
   }
  },
  {
   "cell_type": "code",
   "execution_count": 2,
   "outputs": [
    {
     "name": "stdout",
     "output_type": "stream",
     "text": [
      "tf.Tensor(1, shape=(), dtype=int32)\n",
      "tf.Tensor([1 2 3 4], shape=(4,), dtype=int32)\n",
      "tf.Tensor(\n",
      "[[1 2 3]\n",
      " [4 5 6]], shape=(2, 3), dtype=int32)\n",
      "tf.Tensor(\n",
      "[[[1 2 3]]\n",
      "\n",
      " [[4 5 6]]], shape=(2, 1, 3), dtype=int32)\n"
     ]
    }
   ],
   "source": [
    "a = tf.constant(1) # scalar\n",
    "b = tf.constant([1, 2, 3, 4]) # vector\n",
    "c = tf.constant([[1, 2, 3], [4, 5, 6]]) # matrix\n",
    "d = tf.constant([[[1, 2, 3]], [[4, 5, 6]]]) # tensor\n",
    "\n",
    "print(a)\n",
    "print(b)\n",
    "print(c)\n",
    "print(d)"
   ],
   "metadata": {
    "collapsed": false,
    "pycharm": {
     "name": "#%%\n"
    }
   }
  },
  {
   "cell_type": "markdown",
   "source": [
    "tensorflow에서 Tensor를 이용하여 다양한 연산을 수행할 수 있다."
   ],
   "metadata": {
    "collapsed": false,
    "pycharm": {
     "name": "#%% md\n"
    }
   }
  },
  {
   "cell_type": "code",
   "execution_count": 3,
   "outputs": [
    {
     "name": "stdout",
     "output_type": "stream",
     "text": [
      "add: tf.Tensor(114, shape=(), dtype=int32)\n",
      "subtract: tf.Tensor(68, shape=(), dtype=int32)\n",
      "multiply: tf.Tensor(2093, shape=(), dtype=int32)\n",
      "truediv: tf.Tensor(3.9565217391304346, shape=(), dtype=float64)\n"
     ]
    }
   ],
   "source": [
    "a = tf.constant(91)\n",
    "b = tf.constant(23)\n",
    "\n",
    "print('add:', tf.add(a, b)) # 더하기\n",
    "print('subtract:', tf.subtract(a, b)) # 빼기\n",
    "print('multiply:', tf.multiply(a, b)) # 곱하기\n",
    "print('truediv:', tf.truediv(a, b)) # 나누기"
   ],
   "metadata": {
    "collapsed": false,
    "pycharm": {
     "name": "#%%\n"
    }
   }
  },
  {
   "cell_type": "markdown",
   "source": [
    "rank가 1 이상인 tensor는 다음과 같이 연산된다."
   ],
   "metadata": {
    "collapsed": false,
    "pycharm": {
     "name": "#%% md\n"
    }
   }
  },
  {
   "cell_type": "code",
   "execution_count": 4,
   "outputs": [
    {
     "name": "stdout",
     "output_type": "stream",
     "text": [
      "add: tf.Tensor([10  9  9  6], shape=(4,), dtype=int32)\n",
      "subtract: tf.Tensor([-8 -3 -5  2], shape=(4,), dtype=int32)\n",
      "multiply: tf.Tensor([ 9 18 14  8], shape=(4,), dtype=int32)\n",
      "truediv: tf.Tensor([0.11111111 0.5        0.28571429 2.        ], shape=(4,), dtype=float64)\n"
     ]
    }
   ],
   "source": [
    "a = tf.constant([1, 3, 2, 4])\n",
    "b = tf.constant([9, 6, 7, 2])\n",
    "\n",
    "print('add:', tf.add(a, b))\n",
    "print('subtract:', tf.subtract(a, b))\n",
    "print('multiply:', tf.multiply(a, b))\n",
    "print('truediv:', tf.truediv(a, b))\n"
   ],
   "metadata": {
    "collapsed": false,
    "pycharm": {
     "name": "#%%\n"
    }
   }
  },
  {
   "cell_type": "code",
   "execution_count": 5,
   "outputs": [
    {
     "name": "stdout",
     "output_type": "stream",
     "text": [
      "add: tf.Tensor(\n",
      "[[ 2  5 12]\n",
      " [ 8 11  7]], shape=(2, 3), dtype=int32)\n",
      "subtract: tf.Tensor(\n",
      "[[ 0 -1 -6]\n",
      " [ 0 -1  5]], shape=(2, 3), dtype=int32)\n",
      "multiply: tf.Tensor(\n",
      "[[ 1  6 27]\n",
      " [16 30  6]], shape=(2, 3), dtype=int32)\n",
      "truediv: tf.Tensor(\n",
      "[[1.         0.66666667 0.33333333]\n",
      " [1.         0.83333333 6.        ]], shape=(2, 3), dtype=float64)\n"
     ]
    }
   ],
   "source": [
    "a = tf.constant([[1, 2, 3], [4, 5, 6]])\n",
    "b = tf.constant([[1, 3, 9], [4, 6, 1]])\n",
    "\n",
    "print('add:', tf.add(a, b))\n",
    "print('subtract:', tf.subtract(a, b))\n",
    "print('multiply:', tf.multiply(a, b))\n",
    "print('truediv:', tf.truediv(a, b))"
   ],
   "metadata": {
    "collapsed": false,
    "pycharm": {
     "name": "#%%\n"
    }
   }
  },
  {
   "cell_type": "markdown",
   "source": [
    "shape가 다른 tensor끼리는 add, subtract, multiply, truediv 연산을 할 수 없다."
   ],
   "metadata": {
    "collapsed": false,
    "pycharm": {
     "name": "#%% md\n"
    }
   }
  },
  {
   "cell_type": "code",
   "execution_count": 6,
   "outputs": [
    {
     "ename": "InvalidArgumentError",
     "evalue": "Incompatible shapes: [4] vs. [3] [Op:Add]",
     "output_type": "error",
     "traceback": [
      "\u001B[1;31m---------------------------------------------------------------------------\u001B[0m",
      "\u001B[1;31mInvalidArgumentError\u001B[0m                      Traceback (most recent call last)",
      "\u001B[1;32m<ipython-input-6-a9d47815098f>\u001B[0m in \u001B[0;36m<module>\u001B[1;34m\u001B[0m\n\u001B[0;32m      2\u001B[0m \u001B[0mb\u001B[0m \u001B[1;33m=\u001B[0m \u001B[0mtf\u001B[0m\u001B[1;33m.\u001B[0m\u001B[0mconstant\u001B[0m\u001B[1;33m(\u001B[0m\u001B[1;33m[\u001B[0m\u001B[1;36m9\u001B[0m\u001B[1;33m,\u001B[0m \u001B[1;36m6\u001B[0m\u001B[1;33m,\u001B[0m \u001B[1;36m7\u001B[0m\u001B[1;33m]\u001B[0m\u001B[1;33m)\u001B[0m\u001B[1;33m\u001B[0m\u001B[1;33m\u001B[0m\u001B[0m\n\u001B[0;32m      3\u001B[0m \u001B[1;33m\u001B[0m\u001B[0m\n\u001B[1;32m----> 4\u001B[1;33m \u001B[0mprint\u001B[0m\u001B[1;33m(\u001B[0m\u001B[1;34m'add:'\u001B[0m\u001B[1;33m,\u001B[0m \u001B[0mtf\u001B[0m\u001B[1;33m.\u001B[0m\u001B[0madd\u001B[0m\u001B[1;33m(\u001B[0m\u001B[0ma\u001B[0m\u001B[1;33m,\u001B[0m \u001B[0mb\u001B[0m\u001B[1;33m)\u001B[0m\u001B[1;33m)\u001B[0m\u001B[1;33m\u001B[0m\u001B[1;33m\u001B[0m\u001B[0m\n\u001B[0m\u001B[0;32m      5\u001B[0m \u001B[1;33m\u001B[0m\u001B[0m\n",
      "\u001B[1;32m~\\anaconda3\\envs\\learning-tensorflow\\lib\\site-packages\\tensorflow\\python\\ops\\gen_math_ops.py\u001B[0m in \u001B[0;36madd\u001B[1;34m(x, y, name)\u001B[0m\n\u001B[0;32m    337\u001B[0m       \u001B[1;32mreturn\u001B[0m \u001B[0m_result\u001B[0m\u001B[1;33m\u001B[0m\u001B[1;33m\u001B[0m\u001B[0m\n\u001B[0;32m    338\u001B[0m     \u001B[1;32mexcept\u001B[0m \u001B[0m_core\u001B[0m\u001B[1;33m.\u001B[0m\u001B[0m_NotOkStatusException\u001B[0m \u001B[1;32mas\u001B[0m \u001B[0me\u001B[0m\u001B[1;33m:\u001B[0m\u001B[1;33m\u001B[0m\u001B[1;33m\u001B[0m\u001B[0m\n\u001B[1;32m--> 339\u001B[1;33m       \u001B[0m_ops\u001B[0m\u001B[1;33m.\u001B[0m\u001B[0mraise_from_not_ok_status\u001B[0m\u001B[1;33m(\u001B[0m\u001B[0me\u001B[0m\u001B[1;33m,\u001B[0m \u001B[0mname\u001B[0m\u001B[1;33m)\u001B[0m\u001B[1;33m\u001B[0m\u001B[1;33m\u001B[0m\u001B[0m\n\u001B[0m\u001B[0;32m    340\u001B[0m     \u001B[1;32mexcept\u001B[0m \u001B[0m_core\u001B[0m\u001B[1;33m.\u001B[0m\u001B[0m_FallbackException\u001B[0m\u001B[1;33m:\u001B[0m\u001B[1;33m\u001B[0m\u001B[1;33m\u001B[0m\u001B[0m\n\u001B[0;32m    341\u001B[0m       \u001B[1;32mpass\u001B[0m\u001B[1;33m\u001B[0m\u001B[1;33m\u001B[0m\u001B[0m\n",
      "\u001B[1;32m~\\anaconda3\\envs\\learning-tensorflow\\lib\\site-packages\\tensorflow\\python\\framework\\ops.py\u001B[0m in \u001B[0;36mraise_from_not_ok_status\u001B[1;34m(e, name)\u001B[0m\n\u001B[0;32m   6841\u001B[0m   \u001B[0mmessage\u001B[0m \u001B[1;33m=\u001B[0m \u001B[0me\u001B[0m\u001B[1;33m.\u001B[0m\u001B[0mmessage\u001B[0m \u001B[1;33m+\u001B[0m \u001B[1;33m(\u001B[0m\u001B[1;34m\" name: \"\u001B[0m \u001B[1;33m+\u001B[0m \u001B[0mname\u001B[0m \u001B[1;32mif\u001B[0m \u001B[0mname\u001B[0m \u001B[1;32mis\u001B[0m \u001B[1;32mnot\u001B[0m \u001B[1;32mNone\u001B[0m \u001B[1;32melse\u001B[0m \u001B[1;34m\"\"\u001B[0m\u001B[1;33m)\u001B[0m\u001B[1;33m\u001B[0m\u001B[1;33m\u001B[0m\u001B[0m\n\u001B[0;32m   6842\u001B[0m   \u001B[1;31m# pylint: disable=protected-access\u001B[0m\u001B[1;33m\u001B[0m\u001B[1;33m\u001B[0m\u001B[1;33m\u001B[0m\u001B[0m\n\u001B[1;32m-> 6843\u001B[1;33m   \u001B[0msix\u001B[0m\u001B[1;33m.\u001B[0m\u001B[0mraise_from\u001B[0m\u001B[1;33m(\u001B[0m\u001B[0mcore\u001B[0m\u001B[1;33m.\u001B[0m\u001B[0m_status_to_exception\u001B[0m\u001B[1;33m(\u001B[0m\u001B[0me\u001B[0m\u001B[1;33m.\u001B[0m\u001B[0mcode\u001B[0m\u001B[1;33m,\u001B[0m \u001B[0mmessage\u001B[0m\u001B[1;33m)\u001B[0m\u001B[1;33m,\u001B[0m \u001B[1;32mNone\u001B[0m\u001B[1;33m)\u001B[0m\u001B[1;33m\u001B[0m\u001B[1;33m\u001B[0m\u001B[0m\n\u001B[0m\u001B[0;32m   6844\u001B[0m   \u001B[1;31m# pylint: enable=protected-access\u001B[0m\u001B[1;33m\u001B[0m\u001B[1;33m\u001B[0m\u001B[1;33m\u001B[0m\u001B[0m\n\u001B[0;32m   6845\u001B[0m \u001B[1;33m\u001B[0m\u001B[0m\n",
      "\u001B[1;32m~\\anaconda3\\envs\\learning-tensorflow\\lib\\site-packages\\six.py\u001B[0m in \u001B[0;36mraise_from\u001B[1;34m(value, from_value)\u001B[0m\n",
      "\u001B[1;31mInvalidArgumentError\u001B[0m: Incompatible shapes: [4] vs. [3] [Op:Add]"
     ]
    }
   ],
   "source": [
    "a = tf.constant([1, 3, 2, 4])\n",
    "b = tf.constant([9, 6, 7])\n",
    "\n",
    "print('add:', tf.add(a, b))"
   ],
   "metadata": {
    "collapsed": false,
    "pycharm": {
     "name": "#%%\n"
    }
   }
  },
  {
   "cell_type": "markdown",
   "source": [
    "행렬은 multiply 외에 행렬곱이라는 연산을 할 수 있다.\n",
    "\n",
    "행렬곱은 두 행렬의 크키가 알맞은 경우에만 가능한데\n",
    "\n",
    "크기가 알맞다는 것은 `앞의 행렬의 열의 개수와 뒤의 행렬의 행의 개수가 같은 경우`이다.\n",
    "\n",
    "또한, 행렬곱의 결과값의 크기는 앞의 `행렬의 행의 개수 x 뒤의 행렬의 열의 개수`가 된다.\n",
    "\n",
    "즉, 앞의 행렬의 크기가 `m x n`\n",
    "\n",
    "뒤의 행렬의 크기가 `n x r` 인 경우에만 행렬곱이 가능하며\n",
    "\n",
    "그 결과값의 크기는 `m x r` 이 된다."
   ],
   "metadata": {
    "collapsed": false,
    "pycharm": {
     "name": "#%% md\n"
    }
   }
  },
  {
   "cell_type": "code",
   "execution_count": 7,
   "outputs": [
    {
     "name": "stdout",
     "output_type": "stream",
     "text": [
      "a: tf.Tensor(\n",
      "[[1 2 3]\n",
      " [4 5 6]], shape=(2, 3), dtype=int32)\n",
      "b: tf.Tensor(\n",
      "[[1 2]\n",
      " [3 4]\n",
      " [4 5]], shape=(3, 2), dtype=int32)\n",
      "c: tf.Tensor(\n",
      "[[19 25]\n",
      " [43 58]], shape=(2, 2), dtype=int32)\n"
     ]
    }
   ],
   "source": [
    "a = tf.constant([[1, 2, 3], [4, 5, 6]])\n",
    "b = tf.constant([[1, 2], [3, 4], [4, 5]])\n",
    "c = tf.matmul(a, b)\n",
    "\n",
    "print('a:', a)\n",
    "print('b:', b)\n",
    "print('c:', c)"
   ],
   "metadata": {
    "collapsed": false,
    "pycharm": {
     "name": "#%%\n"
    }
   }
  }
 ],
 "metadata": {
  "kernelspec": {
   "display_name": "Python 3",
   "language": "python",
   "name": "python3"
  },
  "language_info": {
   "codemirror_mode": {
    "name": "ipython",
    "version": 2
   },
   "file_extension": ".py",
   "mimetype": "text/x-python",
   "name": "python",
   "nbconvert_exporter": "python",
   "pygments_lexer": "ipython2",
   "version": "2.7.6"
  }
 },
 "nbformat": 4,
 "nbformat_minor": 0
}