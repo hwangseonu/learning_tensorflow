{
 "cells": [
  {
   "cell_type": "markdown",
   "metadata": {
    "collapsed": true,
    "pycharm": {
     "name": "#%% md\n"
    }
   },
   "source": [
    "`Variable`은 constant와는 다르게 학습하면서 최적화 되는 tensor이다.\n",
    "\n",
    "`random normal`은 정규분포 랜덤값을 원하는 크기의 tensor로 Variable을 최적화 하기 위해 사용한다."
   ]
  },
  {
   "cell_type": "code",
   "execution_count": 1,
   "outputs": [
    {
     "name": "stdout",
     "output_type": "stream",
     "text": [
      "tf.Tensor(\n",
      "[[ 7.7375236  8.890626 ]\n",
      " [17.122532  17.44107  ]], shape=(2, 2), dtype=float32)\n"
     ]
    }
   ],
   "source": [
    "import tensorflow as tf\n",
    "\n",
    "W = tf.Variable(tf.random.normal([3, 2]))\n",
    "b = tf.Variable(tf.random.normal([2, 1]))\n",
    "\n",
    "X = tf.constant([[1, 2, 3], [4, 5, 6]], dtype=tf.float32)\n",
    "\n",
    "print(tf.matmul(X, W) + b)"
   ],
   "metadata": {
    "collapsed": false,
    "pycharm": {
     "name": "#%%\n"
    }
   }
  },
  {
   "cell_type": "markdown",
   "source": [
    "`tensorflow 1.x` 는 tensor 연산이 즉시 실행되지 않았지만\n",
    "\n",
    "`tensorflow 2.x` 에서는 tensor 연산이 즉시 실행되는 것이 기본값이다.\n",
    "\n",
    "`tf.function` 은 성능을 높이고 이식성이 좋은 모델을 만들기 위해 tensor 연산들을 graph로 변경하는 기능을 한다.\n"
   ],
   "metadata": {
    "collapsed": false,
    "pycharm": {
     "name": "#%% md\n"
    }
   }
  },
  {
   "cell_type": "code",
   "execution_count": 2,
   "outputs": [],
   "source": [
    "@tf.function\n",
    "def expr(x):\n",
    "    return tf.add(tf.matmul(x, W), b)"
   ],
   "metadata": {
    "collapsed": false,
    "pycharm": {
     "name": "#%%\n"
    }
   }
  },
  {
   "cell_type": "code",
   "execution_count": 3,
   "outputs": [
    {
     "name": "stdout",
     "output_type": "stream",
     "text": [
      "tf.Tensor(\n",
      "[[ 7.7375236  8.890626 ]\n",
      " [17.122532  17.44107  ]], shape=(2, 2), dtype=float32)\n"
     ]
    }
   ],
   "source": [
    "print(expr(X))"
   ],
   "metadata": {
    "collapsed": false,
    "pycharm": {
     "name": "#%%\n"
    }
   }
  }
 ],
 "metadata": {
  "kernelspec": {
   "display_name": "Python 3",
   "language": "python",
   "name": "python3"
  },
  "language_info": {
   "codemirror_mode": {
    "name": "ipython",
    "version": 2
   },
   "file_extension": ".py",
   "mimetype": "text/x-python",
   "name": "python",
   "nbconvert_exporter": "python",
   "pygments_lexer": "ipython2",
   "version": "2.7.6"
  }
 },
 "nbformat": 4,
 "nbformat_minor": 0
}